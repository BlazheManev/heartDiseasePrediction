{
  "nbformat": 4,
  "nbformat_minor": 0,
  "metadata": {
    "colab": {
      "provenance": []
    },
    "kernelspec": {
      "name": "python3",
      "display_name": "Python 3"
    },
    "language_info": {
      "name": "python"
    }
  },
  "cells": [
    {
      "cell_type": "markdown",
      "source": [
        "\n",
        "      1.  age\n",
        "      2.  sex (1=male,2=female)\n",
        "      3.  chest pain type (4 values)\n",
        "      4.  resting blood pressure (in mm Hg on admission to the hospital\n",
        "      5.  serum cholestoral in mg/dl\n",
        "      6.  fasting blood sugar > 120 mg/dl (1 = true; 0 = false)\n",
        "      7.  resting electrocardiographic results (values 0,1,2)\n",
        "      8.  maximum heart rate achieved\n",
        "      9.  exercise induced angina (1 = yes; 0 = no)\n",
        "      10. oldpeak = ST depression induced by exercise relative to rest\n",
        "      11. the slope of the peak exercise ST segment\n",
        "      12. number of major vessels (0-3) colored by flourosopy\n",
        "      13. thal: 0 = normal; 1 = fixed defect; 2 = reversable defect\n",
        "        "
      ],
      "metadata": {
        "id": "T4jBxDFXWhUI"
      }
    },
    {
      "cell_type": "markdown",
      "source": [
        "uvoz nabora podatkov\n"
      ],
      "metadata": {
        "id": "uSVrVYYhwdfL"
      }
    },
    {
      "cell_type": "code",
      "execution_count": null,
      "metadata": {
        "id": "ReDjvh9kkNXR"
      },
      "outputs": [],
      "source": [
        "import pandas as pd\n",
        "df = pd.read_csv('/content/drive/MyDrive/Heart.csv',index_col=0)\n",
        "\n",
        "df1 = df.copy()"
      ]
    },
    {
      "cell_type": "markdown",
      "source": [
        "print prvih 6 vrstic"
      ],
      "metadata": {
        "id": "FezTvzzzwumD"
      }
    },
    {
      "cell_type": "code",
      "source": [
        "df.head(6)"
      ],
      "metadata": {
        "id": "bsqfVg2-owzw",
        "colab": {
          "base_uri": "https://localhost:8080/",
          "height": 238
        },
        "outputId": "e737c3c6-6673-42bd-88f0-f7438a68dd9f"
      },
      "execution_count": null,
      "outputs": [
        {
          "output_type": "execute_result",
          "data": {
            "text/plain": [
              "   Age  Sex     ChestPain  RestBP  Chol  Fbs  RestECG  MaxHR  ExAng  Oldpeak  \\\n",
              "1   63    1       typical     145   233    1        2    150      0      2.3   \n",
              "2   67    1  asymptomatic     160   286    0        2    108      1      1.5   \n",
              "3   67    1  asymptomatic     120   229    0        2    129      1      2.6   \n",
              "4   37    1    nonanginal     130   250    0        0    187      0      3.5   \n",
              "5   41    0    nontypical     130   204    0        2    172      0      1.4   \n",
              "6   56    1    nontypical     120   236    0        0    178      0      0.8   \n",
              "\n",
              "   Slope   Ca        Thal  AHD  \n",
              "1      3  0.0       fixed   No  \n",
              "2      2  3.0      normal  Yes  \n",
              "3      2  2.0  reversable  Yes  \n",
              "4      3  0.0      normal   No  \n",
              "5      1  0.0      normal   No  \n",
              "6      1  0.0      normal   No  "
            ],
            "text/html": [
              "\n",
              "  <div id=\"df-a9eb19d8-8ed8-42b6-8880-5bb817ddc7d0\">\n",
              "    <div class=\"colab-df-container\">\n",
              "      <div>\n",
              "<style scoped>\n",
              "    .dataframe tbody tr th:only-of-type {\n",
              "        vertical-align: middle;\n",
              "    }\n",
              "\n",
              "    .dataframe tbody tr th {\n",
              "        vertical-align: top;\n",
              "    }\n",
              "\n",
              "    .dataframe thead th {\n",
              "        text-align: right;\n",
              "    }\n",
              "</style>\n",
              "<table border=\"1\" class=\"dataframe\">\n",
              "  <thead>\n",
              "    <tr style=\"text-align: right;\">\n",
              "      <th></th>\n",
              "      <th>Age</th>\n",
              "      <th>Sex</th>\n",
              "      <th>ChestPain</th>\n",
              "      <th>RestBP</th>\n",
              "      <th>Chol</th>\n",
              "      <th>Fbs</th>\n",
              "      <th>RestECG</th>\n",
              "      <th>MaxHR</th>\n",
              "      <th>ExAng</th>\n",
              "      <th>Oldpeak</th>\n",
              "      <th>Slope</th>\n",
              "      <th>Ca</th>\n",
              "      <th>Thal</th>\n",
              "      <th>AHD</th>\n",
              "    </tr>\n",
              "  </thead>\n",
              "  <tbody>\n",
              "    <tr>\n",
              "      <th>1</th>\n",
              "      <td>63</td>\n",
              "      <td>1</td>\n",
              "      <td>typical</td>\n",
              "      <td>145</td>\n",
              "      <td>233</td>\n",
              "      <td>1</td>\n",
              "      <td>2</td>\n",
              "      <td>150</td>\n",
              "      <td>0</td>\n",
              "      <td>2.3</td>\n",
              "      <td>3</td>\n",
              "      <td>0.0</td>\n",
              "      <td>fixed</td>\n",
              "      <td>No</td>\n",
              "    </tr>\n",
              "    <tr>\n",
              "      <th>2</th>\n",
              "      <td>67</td>\n",
              "      <td>1</td>\n",
              "      <td>asymptomatic</td>\n",
              "      <td>160</td>\n",
              "      <td>286</td>\n",
              "      <td>0</td>\n",
              "      <td>2</td>\n",
              "      <td>108</td>\n",
              "      <td>1</td>\n",
              "      <td>1.5</td>\n",
              "      <td>2</td>\n",
              "      <td>3.0</td>\n",
              "      <td>normal</td>\n",
              "      <td>Yes</td>\n",
              "    </tr>\n",
              "    <tr>\n",
              "      <th>3</th>\n",
              "      <td>67</td>\n",
              "      <td>1</td>\n",
              "      <td>asymptomatic</td>\n",
              "      <td>120</td>\n",
              "      <td>229</td>\n",
              "      <td>0</td>\n",
              "      <td>2</td>\n",
              "      <td>129</td>\n",
              "      <td>1</td>\n",
              "      <td>2.6</td>\n",
              "      <td>2</td>\n",
              "      <td>2.0</td>\n",
              "      <td>reversable</td>\n",
              "      <td>Yes</td>\n",
              "    </tr>\n",
              "    <tr>\n",
              "      <th>4</th>\n",
              "      <td>37</td>\n",
              "      <td>1</td>\n",
              "      <td>nonanginal</td>\n",
              "      <td>130</td>\n",
              "      <td>250</td>\n",
              "      <td>0</td>\n",
              "      <td>0</td>\n",
              "      <td>187</td>\n",
              "      <td>0</td>\n",
              "      <td>3.5</td>\n",
              "      <td>3</td>\n",
              "      <td>0.0</td>\n",
              "      <td>normal</td>\n",
              "      <td>No</td>\n",
              "    </tr>\n",
              "    <tr>\n",
              "      <th>5</th>\n",
              "      <td>41</td>\n",
              "      <td>0</td>\n",
              "      <td>nontypical</td>\n",
              "      <td>130</td>\n",
              "      <td>204</td>\n",
              "      <td>0</td>\n",
              "      <td>2</td>\n",
              "      <td>172</td>\n",
              "      <td>0</td>\n",
              "      <td>1.4</td>\n",
              "      <td>1</td>\n",
              "      <td>0.0</td>\n",
              "      <td>normal</td>\n",
              "      <td>No</td>\n",
              "    </tr>\n",
              "    <tr>\n",
              "      <th>6</th>\n",
              "      <td>56</td>\n",
              "      <td>1</td>\n",
              "      <td>nontypical</td>\n",
              "      <td>120</td>\n",
              "      <td>236</td>\n",
              "      <td>0</td>\n",
              "      <td>0</td>\n",
              "      <td>178</td>\n",
              "      <td>0</td>\n",
              "      <td>0.8</td>\n",
              "      <td>1</td>\n",
              "      <td>0.0</td>\n",
              "      <td>normal</td>\n",
              "      <td>No</td>\n",
              "    </tr>\n",
              "  </tbody>\n",
              "</table>\n",
              "</div>\n",
              "      <button class=\"colab-df-convert\" onclick=\"convertToInteractive('df-a9eb19d8-8ed8-42b6-8880-5bb817ddc7d0')\"\n",
              "              title=\"Convert this dataframe to an interactive table.\"\n",
              "              style=\"display:none;\">\n",
              "        \n",
              "  <svg xmlns=\"http://www.w3.org/2000/svg\" height=\"24px\"viewBox=\"0 0 24 24\"\n",
              "       width=\"24px\">\n",
              "    <path d=\"M0 0h24v24H0V0z\" fill=\"none\"/>\n",
              "    <path d=\"M18.56 5.44l.94 2.06.94-2.06 2.06-.94-2.06-.94-.94-2.06-.94 2.06-2.06.94zm-11 1L8.5 8.5l.94-2.06 2.06-.94-2.06-.94L8.5 2.5l-.94 2.06-2.06.94zm10 10l.94 2.06.94-2.06 2.06-.94-2.06-.94-.94-2.06-.94 2.06-2.06.94z\"/><path d=\"M17.41 7.96l-1.37-1.37c-.4-.4-.92-.59-1.43-.59-.52 0-1.04.2-1.43.59L10.3 9.45l-7.72 7.72c-.78.78-.78 2.05 0 2.83L4 21.41c.39.39.9.59 1.41.59.51 0 1.02-.2 1.41-.59l7.78-7.78 2.81-2.81c.8-.78.8-2.07 0-2.86zM5.41 20L4 18.59l7.72-7.72 1.47 1.35L5.41 20z\"/>\n",
              "  </svg>\n",
              "      </button>\n",
              "      \n",
              "  <style>\n",
              "    .colab-df-container {\n",
              "      display:flex;\n",
              "      flex-wrap:wrap;\n",
              "      gap: 12px;\n",
              "    }\n",
              "\n",
              "    .colab-df-convert {\n",
              "      background-color: #E8F0FE;\n",
              "      border: none;\n",
              "      border-radius: 50%;\n",
              "      cursor: pointer;\n",
              "      display: none;\n",
              "      fill: #1967D2;\n",
              "      height: 32px;\n",
              "      padding: 0 0 0 0;\n",
              "      width: 32px;\n",
              "    }\n",
              "\n",
              "    .colab-df-convert:hover {\n",
              "      background-color: #E2EBFA;\n",
              "      box-shadow: 0px 1px 2px rgba(60, 64, 67, 0.3), 0px 1px 3px 1px rgba(60, 64, 67, 0.15);\n",
              "      fill: #174EA6;\n",
              "    }\n",
              "\n",
              "    [theme=dark] .colab-df-convert {\n",
              "      background-color: #3B4455;\n",
              "      fill: #D2E3FC;\n",
              "    }\n",
              "\n",
              "    [theme=dark] .colab-df-convert:hover {\n",
              "      background-color: #434B5C;\n",
              "      box-shadow: 0px 1px 3px 1px rgba(0, 0, 0, 0.15);\n",
              "      filter: drop-shadow(0px 1px 2px rgba(0, 0, 0, 0.3));\n",
              "      fill: #FFFFFF;\n",
              "    }\n",
              "  </style>\n",
              "\n",
              "      <script>\n",
              "        const buttonEl =\n",
              "          document.querySelector('#df-a9eb19d8-8ed8-42b6-8880-5bb817ddc7d0 button.colab-df-convert');\n",
              "        buttonEl.style.display =\n",
              "          google.colab.kernel.accessAllowed ? 'block' : 'none';\n",
              "\n",
              "        async function convertToInteractive(key) {\n",
              "          const element = document.querySelector('#df-a9eb19d8-8ed8-42b6-8880-5bb817ddc7d0');\n",
              "          const dataTable =\n",
              "            await google.colab.kernel.invokeFunction('convertToInteractive',\n",
              "                                                     [key], {});\n",
              "          if (!dataTable) return;\n",
              "\n",
              "          const docLinkHtml = 'Like what you see? Visit the ' +\n",
              "            '<a target=\"_blank\" href=https://colab.research.google.com/notebooks/data_table.ipynb>data table notebook</a>'\n",
              "            + ' to learn more about interactive tables.';\n",
              "          element.innerHTML = '';\n",
              "          dataTable['output_type'] = 'display_data';\n",
              "          await google.colab.output.renderOutput(dataTable, element);\n",
              "          const docLink = document.createElement('div');\n",
              "          docLink.innerHTML = docLinkHtml;\n",
              "          element.appendChild(docLink);\n",
              "        }\n",
              "      </script>\n",
              "    </div>\n",
              "  </div>\n",
              "  "
            ]
          },
          "metadata": {},
          "execution_count": 2
        }
      ]
    },
    {
      "cell_type": "markdown",
      "source": [
        "najpogostejša starost v tem nizu podatkov"
      ],
      "metadata": {
        "id": "ycU4Z31dw8lz"
      }
    },
    {
      "cell_type": "code",
      "source": [
        "df['Age'].value_counts().idxmax()"
      ],
      "metadata": {
        "colab": {
          "base_uri": "https://localhost:8080/"
        },
        "id": "bElOSaIWzXTo",
        "outputId": "8ca74e49-f7c0-4893-f7bc-347b89863912"
      },
      "execution_count": null,
      "outputs": [
        {
          "output_type": "execute_result",
          "data": {
            "text/plain": [
              "58"
            ]
          },
          "metadata": {},
          "execution_count": 3
        }
      ]
    },
    {
      "cell_type": "markdown",
      "source": [
        "oblika nabora podatkov, koliko vrstic in stolpcev ima"
      ],
      "metadata": {
        "id": "2X_J0EchxCMS"
      }
    },
    {
      "cell_type": "code",
      "source": [
        "df.shape"
      ],
      "metadata": {
        "colab": {
          "base_uri": "https://localhost:8080/"
        },
        "id": "uOocyld-o2uo",
        "outputId": "f31d39ae-4a93-4b54-e321-ac4891c696db"
      },
      "execution_count": null,
      "outputs": [
        {
          "output_type": "execute_result",
          "data": {
            "text/plain": [
              "(303, 14)"
            ]
          },
          "metadata": {},
          "execution_count": 4
        }
      ]
    },
    {
      "cell_type": "markdown",
      "source": [
        "Pregled s katerimi vrstami podatkov bomo delali\n"
      ],
      "metadata": {
        "id": "TXqmI73exGP9"
      }
    },
    {
      "cell_type": "code",
      "source": [
        "df.dtypes"
      ],
      "metadata": {
        "colab": {
          "base_uri": "https://localhost:8080/"
        },
        "id": "pohBKMEhlPGa",
        "outputId": "f174d8b2-34db-4f71-d093-dd925ca02e2a"
      },
      "execution_count": null,
      "outputs": [
        {
          "output_type": "execute_result",
          "data": {
            "text/plain": [
              "Age            int64\n",
              "Sex            int64\n",
              "ChestPain     object\n",
              "RestBP         int64\n",
              "Chol           int64\n",
              "Fbs            int64\n",
              "RestECG        int64\n",
              "MaxHR          int64\n",
              "ExAng          int64\n",
              "Oldpeak      float64\n",
              "Slope          int64\n",
              "Ca           float64\n",
              "Thal          object\n",
              "AHD           object\n",
              "dtype: object"
            ]
          },
          "metadata": {},
          "execution_count": 5
        }
      ]
    },
    {
      "cell_type": "markdown",
      "source": [
        "Izrišimo graf korelacij vseh številskih spremenljivk.\n",
        ""
      ],
      "metadata": {
        "id": "HdavedRFxw8j"
      }
    },
    {
      "cell_type": "code",
      "source": [
        "import matplotlib.pyplot as plt\n",
        "plt.matshow(df.corr())\n",
        "plt.show()\n"
      ],
      "metadata": {
        "id": "SVPnnPScpH-T",
        "colab": {
          "base_uri": "https://localhost:8080/",
          "height": 275
        },
        "outputId": "ba97fafc-8d77-4c51-c750-087ebccc94a4"
      },
      "execution_count": null,
      "outputs": [
        {
          "output_type": "display_data",
          "data": {
            "text/plain": [
              "<Figure size 288x288 with 1 Axes>"
            ],
            "image/png": "[encoded data removed]"
          },
          "metadata": {
            "needs_background": "light"
          }
        }
      ]
    },
    {
      "cell_type": "markdown",
      "source": [
        "1=moški 0= *ženski*\n",
        "graf koliko ljudi ima srčno bolezen"
      ],
      "metadata": {
        "id": "dlUqWyO2z4dt"
      }
    },
    {
      "cell_type": "code",
      "source": [
        "asd =df.AHD.value_counts()\n",
        "bd = dict(asd)\n",
        "zxc=pd.DataFrame(bd.items(), columns=['Value', 'Count'])\n",
        "zxc.plot.bar(x=\"Value\", y=\"Count\", rot=0,figsize=(10, 5),color=['blue','red'])"
      ],
      "metadata": {
        "colab": {
          "base_uri": "https://localhost:8080/",
          "height": 352
        },
        "id": "Hye5A3MVrfCD",
        "outputId": "cd34037f-588c-464f-ced5-bbaf7b85743d"
      },
      "execution_count": null,
      "outputs": [
        {
          "output_type": "execute_result",
          "data": {
            "text/plain": [
              "<matplotlib.axes._subplots.AxesSubplot at 0x7fef9676ee20>"
            ]
          },
          "metadata": {},
          "execution_count": 7
        },
        {
          "output_type": "display_data",
          "data": {
            "text/plain": [
              "<Figure size 720x360 with 1 Axes>"
            ],
            "image/png": "[encoded data removed]"
          },
          "metadata": {
            "needs_background": "light"
          }
        }
      ]
    },
    {
      "cell_type": "markdown",
      "source": [
        "graf, koliko ljudi je dobilo srčno bolezen glede na spol\n",
        "1=moški 0= ženski"
      ],
      "metadata": {
        "id": "bXQ9ZJzMyccX"
      }
    },
    {
      "cell_type": "code",
      "source": [
        "asd=df.groupby('Sex')['AHD'].value_counts()\n",
        "bd = dict(asd)\n",
        "zxc=pd.DataFrame(bd.items(), columns=['Value', 'Count'])\n",
        "zxc.plot.bar(x=\"Value\", y=\"Count\", rot=0,figsize=(10, 5),color=['blue','red','red'])"
      ],
      "metadata": {
        "colab": {
          "base_uri": "https://localhost:8080/",
          "height": 352
        },
        "id": "QUXJ60jYxpAR",
        "outputId": "9603941b-2e71-4afe-cf05-a49cd3f2169d"
      },
      "execution_count": null,
      "outputs": [
        {
          "output_type": "execute_result",
          "data": {
            "text/plain": [
              "<matplotlib.axes._subplots.AxesSubplot at 0x7fef96c96640>"
            ]
          },
          "metadata": {},
          "execution_count": 8
        },
        {
          "output_type": "display_data",
          "data": {
            "text/plain": [
              "<Figure size 720x360 with 1 Axes>"
            ],
            "image/png": "[encoded data removed]"
          },
          "metadata": {
            "needs_background": "light"
          }
        }
      ]
    },
    {
      "cell_type": "markdown",
      "source": [
        "graf, koliko ljudi je dobilo srčno bolezen zaradi bolečine v prsih"
      ],
      "metadata": {
        "id": "0DbJC0aOym5p"
      }
    },
    {
      "cell_type": "code",
      "source": [
        "asd=df.groupby('ChestPain')['AHD'].value_counts()\n",
        "bd = dict(asd)\n",
        "zxc=pd.DataFrame(bd.items(), columns=['Value', 'Count'])\n",
        "zxc.plot.bar(x=\"Value\", y=\"Count\", rot=0,figsize=(15, 5),color=['red','blue','blue','red','blue','red','blue','red'])\n"
      ],
      "metadata": {
        "colab": {
          "base_uri": "https://localhost:8080/",
          "height": 352
        },
        "id": "cpYkkqiS0tG2",
        "outputId": "b3116288-b69d-4718-83b3-8b6a42022573"
      },
      "execution_count": null,
      "outputs": [
        {
          "output_type": "execute_result",
          "data": {
            "text/plain": [
              "<matplotlib.axes._subplots.AxesSubplot at 0x7fef96677430>"
            ]
          },
          "metadata": {},
          "execution_count": 9
        },
        {
          "output_type": "display_data",
          "data": {
            "text/plain": [
              "<Figure size 1080x360 with 1 Axes>"
            ],
            "image/png": "[encoded data removed]"
          },
          "metadata": {
            "needs_background": "light"
          }
        }
      ]
    },
    {
      "cell_type": "markdown",
      "source": [
        "najnižja starost, ko ima človek srčno bolezen, in najvišja starost, ko ima človek srčno bolezen"
      ],
      "metadata": {
        "id": "TgknguqKyqA3"
      }
    },
    {
      "cell_type": "code",
      "source": [
        "asd=df.copy()\n",
        "asd=df.loc[df['AHD'] == \"Yes\"]\n",
        "maxAge=max(asd.Age)\n",
        "minAge=min(asd.Age)\n",
        "print(maxAge)\n",
        "print(minAge)\n"
      ],
      "metadata": {
        "colab": {
          "base_uri": "https://localhost:8080/"
        },
        "id": "OaRojcUKeyxm",
        "outputId": "da069469-6f75-4e16-db95-5df351c8f361"
      },
      "execution_count": null,
      "outputs": [
        {
          "output_type": "stream",
          "name": "stdout",
          "text": [
            "77\n",
            "35\n"
          ]
        }
      ]
    },
    {
      "cell_type": "markdown",
      "source": [
        "\n",
        "preveri, ali sta bp in holesterol povezana"
      ],
      "metadata": {
        "id": "Ma1_hanGClbx"
      }
    },
    {
      "cell_type": "code",
      "source": [
        "import matplotlib.colors as colors\n",
        "import seaborn as sns\n",
        "\n",
        "ax = sns.regplot(x='RestBP', y='Chol',data=df,scatter_kws={\"color\": \"blue\"}, line_kws={\"color\": \"red\"})"
      ],
      "metadata": {
        "colab": {
          "base_uri": "https://localhost:8080/",
          "height": 279
        },
        "id": "JUPzVqLo4G2K",
        "outputId": "fa3b1f8d-7fa3-4853-f007-ee92a64ca23d"
      },
      "execution_count": null,
      "outputs": [
        {
          "output_type": "display_data",
          "data": {
            "text/plain": [
              "<Figure size 432x288 with 1 Axes>"
            ],
            "image/png": "[encoded data removed]"
          },
          "metadata": {
            "needs_background": "light"
          }
        }
      ]
    },
    {
      "cell_type": "markdown",
      "source": [
        "koliko manjkajočih vrednosti ima ta nabor podatkov"
      ],
      "metadata": {
        "id": "hWz6_U0Iy49w"
      }
    },
    {
      "cell_type": "code",
      "source": [
        "df.isna().sum()\n"
      ],
      "metadata": {
        "colab": {
          "base_uri": "https://localhost:8080/"
        },
        "id": "lshUwiJzTaF5",
        "outputId": "81896adc-359b-44f9-9749-9613bc8c90d6"
      },
      "execution_count": null,
      "outputs": [
        {
          "output_type": "execute_result",
          "data": {
            "text/plain": [
              "Age          0\n",
              "Sex          0\n",
              "ChestPain    0\n",
              "RestBP       0\n",
              "Chol         0\n",
              "Fbs          0\n",
              "RestECG      0\n",
              "MaxHR        0\n",
              "ExAng        0\n",
              "Oldpeak      0\n",
              "Slope        0\n",
              "Ca           4\n",
              "Thal         2\n",
              "AHD          0\n",
              "dtype: int64"
            ]
          },
          "metadata": {},
          "execution_count": 12
        }
      ]
    },
    {
      "cell_type": "markdown",
      "source": [
        "Dodajanje vrednosti pri manjkajočih vrednostih s strategijo mean in most_frequent\n",
        "\n",
        "Če je mean, nadomestite manjkajoče vrednosti s povprečjem v vsakem stolpcu. Lahko se uporablja samo s številskimi podatki.\n",
        "\n",
        "Če je »most_frequent«, nadomestite manjkajoče z najpogostejšo vrednostjo v vsakem stolpcu. Lahko se uporablja z nizi ali številskimi podatki. Če obstaja več kot ena takšna vrednost, se vrne samo najmanjša."
      ],
      "metadata": {
        "id": "S8eAalluy_e3"
      }
    },
    {
      "cell_type": "code",
      "source": [
        "from sklearn.impute import SimpleImputer\n",
        "import numpy as np\n",
        "\n",
        "imputer = SimpleImputer(missing_values = np.nan, strategy = 'mean',verbose=0)\n",
        "imputer = imputer.fit(df.iloc[1:, 11:12])\n",
        "df.iloc[1:, 11:12] = imputer.transform(df.iloc[1:, 11:12])\n",
        "\n",
        "imputer = SimpleImputer(missing_values = np.nan, strategy = 'most_frequent',verbose=0)\n",
        "imputer = imputer.fit(df.iloc[1:, 12:13])\n",
        "df.iloc[1:, 12:13] = imputer.transform(df.iloc[1:, 12:13])\n",
        "\n",
        "print(df.isna().sum())"
      ],
      "metadata": {
        "colab": {
          "base_uri": "https://localhost:8080/"
        },
        "id": "mtcMbMSBTPoY",
        "outputId": "ef927144-e108-4431-e13a-68af7445ef0b"
      },
      "execution_count": null,
      "outputs": [
        {
          "output_type": "stream",
          "name": "stdout",
          "text": [
            "Age          0\n",
            "Sex          0\n",
            "ChestPain    0\n",
            "RestBP       0\n",
            "Chol         0\n",
            "Fbs          0\n",
            "RestECG      0\n",
            "MaxHR        0\n",
            "ExAng        0\n",
            "Oldpeak      0\n",
            "Slope        0\n",
            "Ca           0\n",
            "Thal         0\n",
            "AHD          0\n",
            "dtype: int64\n"
          ]
        }
      ]
    },
    {
      "cell_type": "markdown",
      "source": [
        "izdelava tortnega diagrama po vrednostih doseženega maksimalnega srčnega utripa in razvrščanje v skupine"
      ],
      "metadata": {
        "id": "9Bv1ruzq5ABR"
      }
    },
    {
      "cell_type": "code",
      "source": [
        "df_good_hr = df[df['MaxHR'] < 120]\n",
        "df_bad_hr = df[(df['MaxHR'] >= 120) & (df['MaxHR'] <= 150)]\n",
        "df_very_bad_hr = df[df['MaxHR'] > 150]\n",
        "\n",
        "# Count the number of occurrences in each group\n",
        "good_hr_count = len(df_good_hr)\n",
        "bad_hr_count = len(df_bad_hr)\n",
        "very_bad_hr_count = len(df_very_bad_hr)\n",
        "\n",
        "# Create the pie chart\n",
        "labels = ['Good Heart Rate', 'Bad Heart Rate', 'Very Bad Heart Rate']\n",
        "sizes = [good_hr_count, bad_hr_count, very_bad_hr_count]\n",
        "\n",
        "plt.pie(sizes, labels=labels, autopct='%1.1f%%' ,colors=['blue', 'red', 'firebrick'])\n",
        "plt.axis('equal')\n",
        "plt.show()"
      ],
      "metadata": {
        "colab": {
          "base_uri": "https://localhost:8080/",
          "height": 252
        },
        "id": "thD-vaqz3imi",
        "outputId": "6a02572d-d786-4124-bdd2-df687bc76276"
      },
      "execution_count": null,
      "outputs": [
        {
          "output_type": "display_data",
          "data": {
            "text/plain": [
              "<Figure size 432x288 with 1 Axes>"
            ],
            "image/png": "[encoded data removed]"
          },
          "metadata": {}
        }
      ]
    },
    {
      "cell_type": "markdown",
      "source": [
        "![AGE-GROUP-NAME-WITH-ITS-AGE-RANGE.png](data:image/png;base64,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)"
      ],
      "metadata": {
        "id": "Lqb4QqPH6Lqt"
      }
    },
    {
      "cell_type": "markdown",
      "source": [
        "ker imamo v tem naboru podatkov ogromno starostno razliko, sem iskal po internetu in nabor podatkov razdelil na to starost Babies,Children,YoungAdults,MiddleAdults and OldAdults"
      ],
      "metadata": {
        "id": "HC9ijV_YzxJe"
      }
    },
    {
      "cell_type": "code",
      "source": [
        "counter = (len(df.Age))\n",
        "print(counter)\n",
        "for i in range  (counter):\n",
        "  if df.Age[i+1]<2:\n",
        "      df.Age[i+1]=\"Babies\"\n",
        "  elif df.Age[i+1]>=3 and(df.Age[i+1]<=16):\n",
        "      df.Age[i+1]=\"Children\"\n",
        "  elif df.Age[i+1]>=17 and(df.Age[i+1]<=30):\n",
        "      df.Age[i+1]=\"YoungAdults\"\n",
        "  elif df.Age[i+1]>=31 and(df.Age[i+1]<=55):\n",
        "      df.Age[i+1]=\"MiddleAdults\"\n",
        "  else:\n",
        "      df.Age[i+1]=\"OldAdults\"\n",
        "\n",
        "df.to_csv('asdd.csv')"
      ],
      "metadata": {
        "colab": {
          "base_uri": "https://localhost:8080/"
        },
        "id": "SXxiLiysltPC",
        "outputId": "5270fd56-b54e-4fa9-9e4b-0a3ac008119a"
      },
      "execution_count": null,
      "outputs": [
        {
          "output_type": "stream",
          "name": "stdout",
          "text": [
            "303\n"
          ]
        },
        {
          "output_type": "stream",
          "name": "stderr",
          "text": [
            "<ipython-input-15-e2fb63099905>:13: SettingWithCopyWarning: \n",
            "A value is trying to be set on a copy of a slice from a DataFrame\n",
            "\n",
            "See the caveats in the documentation: https://pandas.pydata.org/pandas-docs/stable/user_guide/indexing.html#returning-a-view-versus-a-copy\n",
            "  df.Age[i+1]=\"OldAdults\"\n",
            "/usr/local/lib/python3.8/dist-packages/pandas/core/indexing.py:1732: SettingWithCopyWarning: \n",
            "A value is trying to be set on a copy of a slice from a DataFrame\n",
            "\n",
            "See the caveats in the documentation: https://pandas.pydata.org/pandas-docs/stable/user_guide/indexing.html#returning-a-view-versus-a-copy\n",
            "  self._setitem_single_block(indexer, value, name)\n"
          ]
        }
      ]
    },
    {
      "cell_type": "markdown",
      "source": [
        "izbrišimo graf, ki prikazuje najvišji srčni utrip glede na starost človeka in če je imel srčno bolezen ali ne"
      ],
      "metadata": {
        "id": "hGEwTZfzT50H"
      }
    },
    {
      "cell_type": "code",
      "source": [
        "import seaborn as sns\n",
        "g = sns.catplot(data=df, y='Age', x='MaxHR', hue='AHD', kind='box', palette=['blue', 'red'])\n"
      ],
      "metadata": {
        "colab": {
          "base_uri": "https://localhost:8080/",
          "height": 369
        },
        "id": "DaaeK9VLT0gW",
        "outputId": "0fc04687-4daf-4671-cc17-739b064d09d6"
      },
      "execution_count": null,
      "outputs": [
        {
          "output_type": "display_data",
          "data": {
            "text/plain": [
              "<Figure size 412x360 with 1 Axes>"
            ],
            "image/png": "[encoded data removed]"
          },
          "metadata": {
            "needs_background": "light"
          }
        }
      ]
    },
    {
      "cell_type": "markdown",
      "source": [
        "\n",
        "\n",
        "\n",
        "Iskal sem po spletu in našel to, da je zdrav holesterol v serumu manj kot 200 mg/dL, zato sem za to naredil pie diagram in toliko ljudi ima slab holesterol"
      ],
      "metadata": {
        "id": "dGbrYjx2u9p1"
      }
    },
    {
      "cell_type": "code",
      "source": [
        "df_high_chol = df[df['Chol'] > 200]\n",
        "df_low_chol = df[df['Chol'] <= 200]\n",
        "\n",
        "high_chol_count = len(df_high_chol)\n",
        "low_chol_count = len(df_low_chol)\n",
        "\n",
        "labels = ['High Cholesterol', 'Normal Cholesterol']\n",
        "sizes = [high_chol_count, low_chol_count]\n",
        "colors = ['red', 'blue']\n",
        "plt.pie(sizes, labels=labels, autopct='%1.1f%%',colors=colors)\n",
        "plt.axis('equal')\n",
        "plt.show()"
      ],
      "metadata": {
        "colab": {
          "base_uri": "https://localhost:8080/",
          "height": 248
        },
        "id": "LmyljH-3u-1y",
        "outputId": "2d7fd54d-9906-4788-854c-4c791425f919"
      },
      "execution_count": null,
      "outputs": [
        {
          "output_type": "display_data",
          "data": {
            "text/plain": [
              "<Figure size 432x288 with 1 Axes>"
            ],
            "image/png": "[encoded data removed]"
          },
          "metadata": {}
        }
      ]
    },
    {
      "cell_type": "markdown",
      "source": [
        "pretvorba podatke v dummy variable\n"
      ],
      "metadata": {
        "id": "QGDmax4o1Fce"
      }
    },
    {
      "cell_type": "code",
      "source": [
        "from sklearn.preprocessing import StandardScaler\n",
        "\n",
        "df2 = df.copy(deep=True)\n",
        "\n",
        "dummies = []\n",
        "cols = ['Age','ChestPain','Thal']\n",
        "for col in cols:\n",
        "   df2 = pd.get_dummies(df2, columns = [col])\n",
        "\n",
        "scaler=StandardScaler()\n",
        "scaledColumns=['MaxHR','RestBP','Chol','Oldpeak']\n",
        "df2[scaledColumns]=scaler.fit_transform(df2[scaledColumns])\n",
        "df2.head()\n",
        "\n"
      ],
      "metadata": {
        "colab": {
          "base_uri": "https://localhost:8080/",
          "height": 300
        },
        "id": "kb1GGXwPj-WF",
        "outputId": "8d09c2d5-7ceb-4e64-e04b-c890e5ffe547"
      },
      "execution_count": null,
      "outputs": [
        {
          "output_type": "execute_result",
          "data": {
            "text/plain": [
              "   Sex    RestBP      Chol  Fbs  RestECG     MaxHR  ExAng   Oldpeak  Slope  \\\n",
              "1    1  0.757525 -0.264900    1        2  0.017197      0  1.087338      3   \n",
              "2    1  1.611220  0.760415    0        2 -1.821905      1  0.397182      2   \n",
              "3    1 -0.665300 -0.342283    0        2 -0.902354      1  1.346147      2   \n",
              "4    1 -0.096170  0.063974    0        0  1.637359      0  2.122573      3   \n",
              "5    0 -0.096170 -0.825922    0        2  0.980537      0  0.310912      1   \n",
              "\n",
              "    Ca  ... Age_MiddleAdults  Age_OldAdults  Age_YoungAdults  \\\n",
              "1  0.0  ...                0              1                0   \n",
              "2  3.0  ...                0              1                0   \n",
              "3  2.0  ...                0              1                0   \n",
              "4  0.0  ...                1              0                0   \n",
              "5  0.0  ...                1              0                0   \n",
              "\n",
              "   ChestPain_asymptomatic  ChestPain_nonanginal  ChestPain_nontypical  \\\n",
              "1                       0                     0                     0   \n",
              "2                       1                     0                     0   \n",
              "3                       1                     0                     0   \n",
              "4                       0                     1                     0   \n",
              "5                       0                     0                     1   \n",
              "\n",
              "   ChestPain_typical  Thal_fixed  Thal_normal  Thal_reversable  \n",
              "1                  1           1            0                0  \n",
              "2                  0           0            1                0  \n",
              "3                  0           0            0                1  \n",
              "4                  0           0            1                0  \n",
              "5                  0           0            1                0  \n",
              "\n",
              "[5 rows x 21 columns]"
            ],
            "text/html": [
              "\n",
              "  <div id=\"df-88c79991-9cc7-41f4-b816-873262bcc990\">\n",
              "    <div class=\"colab-df-container\">\n",
              "      <div>\n",
              "<style scoped>\n",
              "    .dataframe tbody tr th:only-of-type {\n",
              "        vertical-align: middle;\n",
              "    }\n",
              "\n",
              "    .dataframe tbody tr th {\n",
              "        vertical-align: top;\n",
              "    }\n",
              "\n",
              "    .dataframe thead th {\n",
              "        text-align: right;\n",
              "    }\n",
              "</style>\n",
              "<table border=\"1\" class=\"dataframe\">\n",
              "  <thead>\n",
              "    <tr style=\"text-align: right;\">\n",
              "      <th></th>\n",
              "      <th>Sex</th>\n",
              "      <th>RestBP</th>\n",
              "      <th>Chol</th>\n",
              "      <th>Fbs</th>\n",
              "      <th>RestECG</th>\n",
              "      <th>MaxHR</th>\n",
              "      <th>ExAng</th>\n",
              "      <th>Oldpeak</th>\n",
              "      <th>Slope</th>\n",
              "      <th>Ca</th>\n",
              "      <th>...</th>\n",
              "      <th>Age_MiddleAdults</th>\n",
              "      <th>Age_OldAdults</th>\n",
              "      <th>Age_YoungAdults</th>\n",
              "      <th>ChestPain_asymptomatic</th>\n",
              "      <th>ChestPain_nonanginal</th>\n",
              "      <th>ChestPain_nontypical</th>\n",
              "      <th>ChestPain_typical</th>\n",
              "      <th>Thal_fixed</th>\n",
              "      <th>Thal_normal</th>\n",
              "      <th>Thal_reversable</th>\n",
              "    </tr>\n",
              "  </thead>\n",
              "  <tbody>\n",
              "    <tr>\n",
              "      <th>1</th>\n",
              "      <td>1</td>\n",
              "      <td>0.757525</td>\n",
              "      <td>-0.264900</td>\n",
              "      <td>1</td>\n",
              "      <td>2</td>\n",
              "      <td>0.017197</td>\n",
              "      <td>0</td>\n",
              "      <td>1.087338</td>\n",
              "      <td>3</td>\n",
              "      <td>0.0</td>\n",
              "      <td>...</td>\n",
              "      <td>0</td>\n",
              "      <td>1</td>\n",
              "      <td>0</td>\n",
              "      <td>0</td>\n",
              "      <td>0</td>\n",
              "      <td>0</td>\n",
              "      <td>1</td>\n",
              "      <td>1</td>\n",
              "      <td>0</td>\n",
              "      <td>0</td>\n",
              "    </tr>\n",
              "    <tr>\n",
              "      <th>2</th>\n",
              "      <td>1</td>\n",
              "      <td>1.611220</td>\n",
              "      <td>0.760415</td>\n",
              "      <td>0</td>\n",
              "      <td>2</td>\n",
              "      <td>-1.821905</td>\n",
              "      <td>1</td>\n",
              "      <td>0.397182</td>\n",
              "      <td>2</td>\n",
              "      <td>3.0</td>\n",
              "      <td>...</td>\n",
              "      <td>0</td>\n",
              "      <td>1</td>\n",
              "      <td>0</td>\n",
              "      <td>1</td>\n",
              "      <td>0</td>\n",
              "      <td>0</td>\n",
              "      <td>0</td>\n",
              "      <td>0</td>\n",
              "      <td>1</td>\n",
              "      <td>0</td>\n",
              "    </tr>\n",
              "    <tr>\n",
              "      <th>3</th>\n",
              "      <td>1</td>\n",
              "      <td>-0.665300</td>\n",
              "      <td>-0.342283</td>\n",
              "      <td>0</td>\n",
              "      <td>2</td>\n",
              "      <td>-0.902354</td>\n",
              "      <td>1</td>\n",
              "      <td>1.346147</td>\n",
              "      <td>2</td>\n",
              "      <td>2.0</td>\n",
              "      <td>...</td>\n",
              "      <td>0</td>\n",
              "      <td>1</td>\n",
              "      <td>0</td>\n",
              "      <td>1</td>\n",
              "      <td>0</td>\n",
              "      <td>0</td>\n",
              "      <td>0</td>\n",
              "      <td>0</td>\n",
              "      <td>0</td>\n",
              "      <td>1</td>\n",
              "    </tr>\n",
              "    <tr>\n",
              "      <th>4</th>\n",
              "      <td>1</td>\n",
              "      <td>-0.096170</td>\n",
              "      <td>0.063974</td>\n",
              "      <td>0</td>\n",
              "      <td>0</td>\n",
              "      <td>1.637359</td>\n",
              "      <td>0</td>\n",
              "      <td>2.122573</td>\n",
              "      <td>3</td>\n",
              "      <td>0.0</td>\n",
              "      <td>...</td>\n",
              "      <td>1</td>\n",
              "      <td>0</td>\n",
              "      <td>0</td>\n",
              "      <td>0</td>\n",
              "      <td>1</td>\n",
              "      <td>0</td>\n",
              "      <td>0</td>\n",
              "      <td>0</td>\n",
              "      <td>1</td>\n",
              "      <td>0</td>\n",
              "    </tr>\n",
              "    <tr>\n",
              "      <th>5</th>\n",
              "      <td>0</td>\n",
              "      <td>-0.096170</td>\n",
              "      <td>-0.825922</td>\n",
              "      <td>0</td>\n",
              "      <td>2</td>\n",
              "      <td>0.980537</td>\n",
              "      <td>0</td>\n",
              "      <td>0.310912</td>\n",
              "      <td>1</td>\n",
              "      <td>0.0</td>\n",
              "      <td>...</td>\n",
              "      <td>1</td>\n",
              "      <td>0</td>\n",
              "      <td>0</td>\n",
              "      <td>0</td>\n",
              "      <td>0</td>\n",
              "      <td>1</td>\n",
              "      <td>0</td>\n",
              "      <td>0</td>\n",
              "      <td>1</td>\n",
              "      <td>0</td>\n",
              "    </tr>\n",
              "  </tbody>\n",
              "</table>\n",
              "<p>5 rows × 21 columns</p>\n",
              "</div>\n",
              "      <button class=\"colab-df-convert\" onclick=\"convertToInteractive('df-88c79991-9cc7-41f4-b816-873262bcc990')\"\n",
              "              title=\"Convert this dataframe to an interactive table.\"\n",
              "              style=\"display:none;\">\n",
              "        \n",
              "  <svg xmlns=\"http://www.w3.org/2000/svg\" height=\"24px\"viewBox=\"0 0 24 24\"\n",
              "       width=\"24px\">\n",
              "    <path d=\"M0 0h24v24H0V0z\" fill=\"none\"/>\n",
              "    <path d=\"M18.56 5.44l.94 2.06.94-2.06 2.06-.94-2.06-.94-.94-2.06-.94 2.06-2.06.94zm-11 1L8.5 8.5l.94-2.06 2.06-.94-2.06-.94L8.5 2.5l-.94 2.06-2.06.94zm10 10l.94 2.06.94-2.06 2.06-.94-2.06-.94-.94-2.06-.94 2.06-2.06.94z\"/><path d=\"M17.41 7.96l-1.37-1.37c-.4-.4-.92-.59-1.43-.59-.52 0-1.04.2-1.43.59L10.3 9.45l-7.72 7.72c-.78.78-.78 2.05 0 2.83L4 21.41c.39.39.9.59 1.41.59.51 0 1.02-.2 1.41-.59l7.78-7.78 2.81-2.81c.8-.78.8-2.07 0-2.86zM5.41 20L4 18.59l7.72-7.72 1.47 1.35L5.41 20z\"/>\n",
              "  </svg>\n",
              "      </button>\n",
              "      \n",
              "  <style>\n",
              "    .colab-df-container {\n",
              "      display:flex;\n",
              "      flex-wrap:wrap;\n",
              "      gap: 12px;\n",
              "    }\n",
              "\n",
              "    .colab-df-convert {\n",
              "      background-color: #E8F0FE;\n",
              "      border: none;\n",
              "      border-radius: 50%;\n",
              "      cursor: pointer;\n",
              "      display: none;\n",
              "      fill: #1967D2;\n",
              "      height: 32px;\n",
              "      padding: 0 0 0 0;\n",
              "      width: 32px;\n",
              "    }\n",
              "\n",
              "    .colab-df-convert:hover {\n",
              "      background-color: #E2EBFA;\n",
              "      box-shadow: 0px 1px 2px rgba(60, 64, 67, 0.3), 0px 1px 3px 1px rgba(60, 64, 67, 0.15);\n",
              "      fill: #174EA6;\n",
              "    }\n",
              "\n",
              "    [theme=dark] .colab-df-convert {\n",
              "      background-color: #3B4455;\n",
              "      fill: #D2E3FC;\n",
              "    }\n",
              "\n",
              "    [theme=dark] .colab-df-convert:hover {\n",
              "      background-color: #434B5C;\n",
              "      box-shadow: 0px 1px 3px 1px rgba(0, 0, 0, 0.15);\n",
              "      filter: drop-shadow(0px 1px 2px rgba(0, 0, 0, 0.3));\n",
              "      fill: #FFFFFF;\n",
              "    }\n",
              "  </style>\n",
              "\n",
              "      <script>\n",
              "        const buttonEl =\n",
              "          document.querySelector('#df-88c79991-9cc7-41f4-b816-873262bcc990 button.colab-df-convert');\n",
              "        buttonEl.style.display =\n",
              "          google.colab.kernel.accessAllowed ? 'block' : 'none';\n",
              "\n",
              "        async function convertToInteractive(key) {\n",
              "          const element = document.querySelector('#df-88c79991-9cc7-41f4-b816-873262bcc990');\n",
              "          const dataTable =\n",
              "            await google.colab.kernel.invokeFunction('convertToInteractive',\n",
              "                                                     [key], {});\n",
              "          if (!dataTable) return;\n",
              "\n",
              "          const docLinkHtml = 'Like what you see? Visit the ' +\n",
              "            '<a target=\"_blank\" href=https://colab.research.google.com/notebooks/data_table.ipynb>data table notebook</a>'\n",
              "            + ' to learn more about interactive tables.';\n",
              "          element.innerHTML = '';\n",
              "          dataTable['output_type'] = 'display_data';\n",
              "          await google.colab.output.renderOutput(dataTable, element);\n",
              "          const docLink = document.createElement('div');\n",
              "          docLink.innerHTML = docLinkHtml;\n",
              "          element.appendChild(docLink);\n",
              "        }\n",
              "      </script>\n",
              "    </div>\n",
              "  </div>\n",
              "  "
            ]
          },
          "metadata": {},
          "execution_count": 18
        }
      ]
    },
    {
      "cell_type": "markdown",
      "source": [
        "usposabljanje nabora podatkov"
      ],
      "metadata": {
        "id": "hc5V-AeZ1Lv9"
      }
    },
    {
      "cell_type": "code",
      "source": [
        "\n",
        "from sklearn.model_selection import train_test_split\n",
        "\n",
        "izhod = 'AHD'\n",
        "\n",
        "df_izhod2 = df2[izhod]\n",
        "df_vhod2 = df2.drop(izhod, axis=1)\n",
        "\n",
        "x_train, x_test, y_train, y_test = train_test_split(df_vhod2, df_izhod2, test_size=0.30, random_state=789)\n",
        "print(x_train.shape, x_test.shape, y_train.shape, y_test.shape)"
      ],
      "metadata": {
        "colab": {
          "base_uri": "https://localhost:8080/"
        },
        "id": "OELT-2TtDY76",
        "outputId": "a73aecdb-181e-45b5-a88e-f8370cc72c3b"
      },
      "execution_count": null,
      "outputs": [
        {
          "output_type": "stream",
          "name": "stdout",
          "text": [
            "(212, 20) (91, 20) (212,) (91,)\n"
          ]
        }
      ]
    },
    {
      "cell_type": "markdown",
      "source": [
        "imamo decision three classifier"
      ],
      "metadata": {
        "id": "jb5d7tT81VDF"
      }
    },
    {
      "cell_type": "code",
      "source": [
        "from sklearn.tree import DecisionTreeClassifier\n",
        "\n",
        "lm = DecisionTreeClassifier()\n",
        "lm.fit(x_train, y_train)\n",
        "lm_rezultat = lm.predict(x_test) #\n",
        "lm_rezultat[:4]"
      ],
      "metadata": {
        "colab": {
          "base_uri": "https://localhost:8080/"
        },
        "id": "EhMq-X1yE2wO",
        "outputId": "c47079f4-7201-47ff-9364-14c4a0e6d2a0"
      },
      "execution_count": null,
      "outputs": [
        {
          "output_type": "execute_result",
          "data": {
            "text/plain": [
              "array(['Yes', 'No', 'Yes', 'Yes'], dtype=object)"
            ]
          },
          "metadata": {},
          "execution_count": 20
        }
      ]
    },
    {
      "cell_type": "markdown",
      "source": [
        "izpis tocnost,preciznost,preklic in f1 score"
      ],
      "metadata": {
        "id": "pUhg7lmL1auN"
      }
    },
    {
      "cell_type": "code",
      "source": [
        "from sklearn import metrics\n",
        "\n",
        "print('Precision',metrics.accuracy_score(lm_rezultat, y_test)) # Izpišemo točnost klasifikacije algoritma\n",
        "print('Recall:', metrics.recall_score(lm_rezultat, y_test, average='micro')) # Za vsak razred izpiše recall\n",
        "print('F1-score:', metrics.f1_score(lm_rezultat, y_test, average='micro'))\n",
        "print('Accuracy',metrics.accuracy_score(lm_rezultat, y_test))\n"
      ],
      "metadata": {
        "colab": {
          "base_uri": "https://localhost:8080/"
        },
        "id": "5D4Pa3VOE-TX",
        "outputId": "dd01496f-8880-4897-832d-3100dd1ffbfb"
      },
      "execution_count": null,
      "outputs": [
        {
          "output_type": "stream",
          "name": "stdout",
          "text": [
            "Precision 0.7802197802197802\n",
            "Recall: 0.7802197802197802\n",
            "F1-score: 0.7802197802197802\n",
            "Accuracy 0.7802197802197802\n"
          ]
        }
      ]
    },
    {
      "cell_type": "markdown",
      "source": [
        "Z uporabo osemrezinskega navzkrižnega preverjanja z optimizacijo metrike natančnosti uporabljam vse te naslednje klasifikatorje:"
      ],
      "metadata": {
        "id": "g5jVURoj1gok"
      }
    },
    {
      "cell_type": "code",
      "source": [
        "from sklearn.model_selection import StratifiedKFold\n",
        "from sklearn.model_selection import cross_val_score\n",
        "from sklearn.tree import DecisionTreeClassifier\n",
        "from sklearn.linear_model import LogisticRegression\n",
        "from sklearn import svm\n",
        "from sklearn.neighbors import KNeighborsClassifier\n",
        "from sklearn.naive_bayes import GaussianNB\n",
        "from sklearn.ensemble import RandomForestClassifier\n",
        "from sklearn.ensemble import ExtraTreesClassifier\n",
        "from sklearn.ensemble import AdaBoostClassifier\n",
        "from sklearn.ensemble import GradientBoostingClassifier\n",
        "\n",
        "klasifikatorji = [] # Seznam kalsifikatorjev\n",
        "klasifikatorji.append(DecisionTreeClassifier())\n",
        "klasifikatorji.append(LogisticRegression())\n",
        "klasifikatorji.append(KNeighborsClassifier())\n",
        "klasifikatorji.append(svm.SVC())\n",
        "klasifikatorji.append(GaussianNB())\n",
        "klasifikatorji.append(RandomForestClassifier())\n",
        "klasifikatorji.append(ExtraTreesClassifier())\n",
        "klasifikatorji.append(AdaBoostClassifier())\n",
        "klasifikatorji.append(GradientBoostingClassifier())\n",
        "\n",
        "df_ml =df2.copy(deep=True)\n",
        "df_ml.head()\n",
        "\n",
        "izhod = 'AHD'\n",
        "vhod = df_ml.drop(izhod, axis=1)\n",
        "\n",
        "rezultatArray = []\n",
        "typeArray = []\n",
        "for klasifikator in klasifikatorji:\n",
        "    kfold = StratifiedKFold(n_splits=4, random_state=123, shuffle=True) # Stratified KFold za preverjanje z desetimi rezi\n",
        "    cv_rezultati = cross_val_score(klasifikator, # Model klasifikatorja\n",
        "                                   vhod, # Vhodni input podatki\n",
        "                                   df_ml[izhod], # Kaj je rezultat (razred)\n",
        "                                   cv=kfold, # Število rezov\n",
        "                                   scoring='accuracy') # Metrika ocenjevanja\n",
        "    rezultatArray.append(cv_rezultati.mean())\n",
        "    typeArray.append(type(klasifikator).__name__ )\n",
        "\n",
        "    print(f'{type(klasifikator).__name__ :}: {cv_rezultati.mean():1.4f}')\n",
        "zaGraf = pd.DataFrame(\n",
        "    {'Type': typeArray,\n",
        "     'Rezultat': rezultatArray,\n",
        "    })\n",
        "\n"
      ],
      "metadata": {
        "id": "0vYUBkcQFJSW",
        "colab": {
          "base_uri": "https://localhost:8080/"
        },
        "outputId": "836e49d6-de1b-49a2-f9dd-55251d6f9046"
      },
      "execution_count": null,
      "outputs": [
        {
          "output_type": "stream",
          "name": "stdout",
          "text": [
            "DecisionTreeClassifier: 0.6966\n",
            "LogisticRegression: 0.8384\n",
            "KNeighborsClassifier: 0.8053\n",
            "SVC: 0.8184\n",
            "GaussianNB: 0.7227\n",
            "RandomForestClassifier: 0.8218\n",
            "ExtraTreesClassifier: 0.8218\n",
            "AdaBoostClassifier: 0.8087\n",
            "GradientBoostingClassifier: 0.7788\n"
          ]
        }
      ]
    },
    {
      "cell_type": "markdown",
      "source": [
        "rezultati klasifikacije v graf"
      ],
      "metadata": {
        "id": "AAVy63QU1yI1"
      }
    },
    {
      "cell_type": "code",
      "source": [
        "colors = ['red','green','blue','gold','silver','yellow','orange','black','purple']\n",
        "ax = zaGraf.plot.bar(x='Type', y='Rezultat', rot=0,figsize=(20, 15),color=colors)"
      ],
      "metadata": {
        "id": "N5BOJkDbJOX_",
        "outputId": "965c3b0d-e704-4b46-ec63-745f40c9622d",
        "colab": {
          "base_uri": "https://localhost:8080/",
          "height": 877
        }
      },
      "execution_count": null,
      "outputs": [
        {
          "output_type": "display_data",
          "data": {
            "text/plain": [
              "<Figure size 1440x1080 with 1 Axes>"
            ],
            "image/png": "[encoded data removed]"
          },
          "metadata": {
            "needs_background": "light"
          }
        }
      ]
    },
    {
      "cell_type": "markdown",
      "source": [
        "GRUČENJE"
      ],
      "metadata": {
        "id": "7AGhPkPc2aAL"
      }
    },
    {
      "cell_type": "markdown",
      "source": [
        "Iz dataframe odsranimo vse kategorične podatke ker ne potrebujemo, ampak številske podatke standardiziramo za nadaljno analizo ker bomo potrebujali samo številske podatke\n"
      ],
      "metadata": {
        "id": "SIikSVJd2obT"
      }
    },
    {
      "cell_type": "code",
      "source": [
        "from sklearn.preprocessing import StandardScaler\n",
        "\n",
        "kategoricni = list(df1.select_dtypes([np.object]).columns)\n",
        "stevilski=list(df1.select_dtypes([np.number]).columns)\n",
        "\n",
        "df_2= df1.drop(kategoricni, axis=1)\n",
        "\n",
        "df_2[stevilski] = StandardScaler().fit_transform(df_2[stevilski])\n",
        "df_2.head()\n",
        "df_2['Ca'].fillna(df_2['Ca'].mean(), inplace=True)"
      ],
      "metadata": {
        "colab": {
          "base_uri": "https://localhost:8080/"
        },
        "id": "-P5zYgg3y_7j",
        "outputId": "fd2e0b45-efd2-48f3-a094-82d85d7d3c3c"
      },
      "execution_count": null,
      "outputs": [
        {
          "output_type": "stream",
          "name": "stderr",
          "text": [
            "<ipython-input-24-e9472f5897fd>:3: DeprecationWarning: `np.object` is a deprecated alias for the builtin `object`. To silence this warning, use `object` by itself. Doing this will not modify any behavior and is safe. \n",
            "Deprecated in NumPy 1.20; for more details and guidance: https://numpy.org/devdocs/release/1.20.0-notes.html#deprecations\n",
            "  kategoricni = list(df1.select_dtypes([np.object]).columns)\n"
          ]
        }
      ]
    },
    {
      "cell_type": "markdown",
      "source": [
        "Da dobimo vpogled koliko gruč bomo optimalno delitit naredimo hierarhično gručenje"
      ],
      "metadata": {
        "id": "SmyTmmlR3fhg"
      }
    },
    {
      "cell_type": "code",
      "source": [
        "from matplotlib import pyplot as plt\n",
        "from scipy.cluster.hierarchy import dendrogram\n",
        "from scipy.cluster.hierarchy import linkage\n",
        "\n",
        "linked = linkage(df_2, method='single')\n",
        "\n",
        "najnizji_nivo = 4\n",
        "\n",
        "plt.figure(figsize=(20,7))\n",
        "dendrogram(linked,\n",
        "           orientation='top',\n",
        "           distance_sort='descending',\n",
        "           p=najnizji_nivo,\n",
        "           truncate_mode='level',\n",
        "           leaf_rotation=90)\n",
        "\n",
        "plt.show()\n"
      ],
      "metadata": {
        "colab": {
          "base_uri": "https://localhost:8080/",
          "height": 451
        },
        "id": "xJj1LirvzhT2",
        "outputId": "1d84c197-197a-493c-9439-15d9673f2c62"
      },
      "execution_count": null,
      "outputs": [
        {
          "output_type": "display_data",
          "data": {
            "text/plain": [
              "<Figure size 1440x504 with 1 Axes>"
            ],
            "image/png": "[encoded data removed]"
          },
          "metadata": {
            "needs_background": "light"
          }
        }
      ]
    },
    {
      "cell_type": "markdown",
      "source": [
        "Izvedite gručenje z uporabo K-means algoritma."
      ],
      "metadata": {
        "id": "XN-_s9bT38VY"
      }
    },
    {
      "cell_type": "markdown",
      "source": [
        "Algoritem naj razdeli instance v 4 gruči. Izpišite koliko je instanc v posamezni gruč"
      ],
      "metadata": {
        "id": "alcEvC7E3-HX"
      }
    },
    {
      "cell_type": "code",
      "source": [
        "from sklearn.cluster import KMeans\n",
        "import collections\n",
        "\n",
        "number = 2\n",
        "kmeans = KMeans(n_clusters=number, random_state=0).fit(df_2)\n",
        "\n",
        "print(f'Gruče v katerem spadajo vse instance:: {kmeans.labels_}')\n"
      ],
      "metadata": {
        "colab": {
          "base_uri": "https://localhost:8080/"
        },
        "id": "_YrWpVwI2BPl",
        "outputId": "af0f8a5a-2942-4c99-b8f7-5b4a29e00768"
      },
      "execution_count": null,
      "outputs": [
        {
          "output_type": "stream",
          "name": "stdout",
          "text": [
            "Gruče v katerem spadajo vse instance:: [1 1 1 0 0 0 1 0 1 1 0 0 1 0 0 0 0 0 0 0 1 0 0 1 1 0 0 1 0 1 0 1 0 0 0 0 1\n",
            " 1 1 1 1 0 0 0 0 1 0 1 0 1 0 0 0 0 1 1 0 0 1 1 1 1 1 0 1 1 1 0 1 1 0 1 1 0\n",
            " 0 0 1 0 0 1 1 0 0 1 0 0 0 0 0 0 0 1 1 0 0 0 1 1 0 0 0 0 0 0 1 0 0 0 1 0 1\n",
            " 1 0 1 1 0 0 0 1 1 1 1 1 1 1 0 1 1 0 0 0 0 0 0 0 0 1 1 1 1 0 0 0 1 1 0 1 0\n",
            " 0 0 0 0 0 1 1 1 0 0 1 0 0 1 0 0 0 0 0 0 0 0 1 1 1 0 1 1 0 1 0 0 0 1 0 1 0\n",
            " 0 0 1 0 1 0 1 1 1 1 1 1 0 0 0 0 0 0 0 0 1 1 1 0 1 0 1 0 1 0 0 0 0 1 0 0 0\n",
            " 0 1 1 0 0 0 1 1 0 1 1 1 0 1 1 0 0 0 0 0 0 1 0 1 0 1 0 0 1 1 1 0 0 0 0 1 0\n",
            " 0 0 0 0 0 1 1 1 1 0 0 1 1 1 1 0 1 0 0 0 0 1 0 1 0 0 1 1 0 0 0 1 0 1 1 1 0\n",
            " 1 1 0 1 1 0 0]\n"
          ]
        }
      ]
    },
    {
      "cell_type": "markdown",
      "source": [
        "Naredimo analizo koliko je optimalno število gruč pri uporabi K-means algoritma."
      ],
      "metadata": {
        "id": "6PpiYBhT4MeQ"
      }
    },
    {
      "cell_type": "code",
      "source": [
        "\n",
        "import seaborn as sns\n",
        "\n",
        "inertia = {}\n",
        "\n",
        "for k in range(1, 9):\n",
        "  kmeans = KMeans(n_clusters=k).fit(df_2)\n",
        "  inertia[k] = kmeans.inertia_\n",
        "inertia\n",
        "\n",
        "plt.figure(figsize=(10,7))\n",
        "sns.lineplot(x=list(inertia.keys()), y=list(inertia.values()))\n",
        "plt.ylabel('Inertia')\n",
        "plt.xlabel('Število gruč')"
      ],
      "metadata": {
        "colab": {
          "base_uri": "https://localhost:8080/",
          "height": 466
        },
        "id": "VPz-ASOS2F9T",
        "outputId": "f47cbf35-f89d-4e36-9dbf-7975c50489a5"
      },
      "execution_count": null,
      "outputs": [
        {
          "output_type": "execute_result",
          "data": {
            "text/plain": [
              "Text(0.5, 0, 'Število gruč')"
            ]
          },
          "metadata": {},
          "execution_count": 27
        },
        {
          "output_type": "display_data",
          "data": {
            "text/plain": [
              "<Figure size 720x504 with 1 Axes>"
            ],
            "image/png": "[encoded data removed]"
          },
          "metadata": {
            "needs_background": "light"
          }
        }
      ]
    },
    {
      "cell_type": "markdown",
      "source": [
        "S pomočjo PCA transformacije naredimo dva nova stolpca. Vrednosti iz teh dveh stolpcev prikažimo v grafu raztrosa.\n",
        "Instance so  obarvane glede na to, v katero gručo jih je razvrstil K-means algoritem."
      ],
      "metadata": {
        "id": "-xKenTgS4r_O"
      }
    },
    {
      "cell_type": "code",
      "source": [
        "from sklearn.decomposition import PCA, FastICA\n",
        "from sklearn.manifold import TSNE\n",
        "\n",
        "\n",
        "df_transformed = PCA(n_components=2).fit_transform(df_2)\n",
        "kmeans = KMeans(n_clusters=2).fit(df_2)\n",
        "print(f'Inertia za gručenje v štiri gruče: {kmeans.inertia_}')\n",
        "\n",
        "df_transformed = pd.DataFrame(df_transformed, columns=('first', 'second'))\n",
        "\n",
        "sns.relplot(x='first', y='second', hue=kmeans.labels_, alpha=.8, height=6, data=df_transformed)"
      ],
      "metadata": {
        "colab": {
          "base_uri": "https://localhost:8080/",
          "height": 477
        },
        "id": "DFWQtI6M2JNM",
        "outputId": "3136feec-ac9e-4018-ce82-9e48333b6ff9"
      },
      "execution_count": null,
      "outputs": [
        {
          "output_type": "stream",
          "name": "stdout",
          "text": [
            "Inertia za gručenje v štiri gruče: 2758.0242238152086\n"
          ]
        },
        {
          "output_type": "execute_result",
          "data": {
            "text/plain": [
              "<seaborn.axisgrid.FacetGrid at 0x7fef86699790>"
            ]
          },
          "metadata": {},
          "execution_count": 28
        },
        {
          "output_type": "display_data",
          "data": {
            "text/plain": [
              "<Figure size 474.375x432 with 1 Axes>"
            ],
            "image/png": "[encoded data removed]"
          },
          "metadata": {
            "needs_background": "light"
          }
        }
      ]
    },
    {
      "cell_type": "markdown",
      "source": [
        " Nad transformiranimi podatki  (z algoritmom PCA) izvedmo gručenje z  Birch, SpectralClustering\n"
      ],
      "metadata": {
        "id": "4Fu8guZP5dsN"
      }
    },
    {
      "cell_type": "code",
      "source": [
        "from sklearn.cluster import SpectralClustering\n",
        "import numpy as np\n",
        "\n",
        "clustering = SpectralClustering(n_clusters=2,\n",
        "         assign_labels='discretize',\n",
        "         random_state=0).fit(df_transformed)\n",
        "\n",
        "clustering.labels_\n",
        "\n",
        "sns.relplot(x=\"first\", y=\"second\", hue=clustering.labels_, alpha=.8, height=6, data=df_transformed)\n"
      ],
      "metadata": {
        "colab": {
          "base_uri": "https://localhost:8080/",
          "height": 459
        },
        "id": "drZXOQcC2S7b",
        "outputId": "5ec77a34-befe-4737-8d66-2aaeb9b434af"
      },
      "execution_count": null,
      "outputs": [
        {
          "output_type": "execute_result",
          "data": {
            "text/plain": [
              "<seaborn.axisgrid.FacetGrid at 0x7fef86666790>"
            ]
          },
          "metadata": {},
          "execution_count": 29
        },
        {
          "output_type": "display_data",
          "data": {
            "text/plain": [
              "<Figure size 474.375x432 with 1 Axes>"
            ],
            "image/png": "[encoded data removed]"
          },
          "metadata": {
            "needs_background": "light"
          }
        }
      ]
    },
    {
      "cell_type": "code",
      "source": [
        "from sklearn.cluster import Birch\n",
        "\n",
        "brc = Birch(n_clusters=2)\n",
        "brc.fit(df_transformed)\n",
        "\n",
        "sns.relplot(x=\"first\", y=\"second\", hue=brc.labels_, alpha=.8, height=6, data=df_transformed)"
      ],
      "metadata": {
        "colab": {
          "base_uri": "https://localhost:8080/",
          "height": 459
        },
        "id": "Us4nXiiC5SUQ",
        "outputId": "f4d17a86-7787-4743-c883-fcbef13d194e"
      },
      "execution_count": null,
      "outputs": [
        {
          "output_type": "execute_result",
          "data": {
            "text/plain": [
              "<seaborn.axisgrid.FacetGrid at 0x7fef96803eb0>"
            ]
          },
          "metadata": {},
          "execution_count": 30
        },
        {
          "output_type": "display_data",
          "data": {
            "text/plain": [
              "<Figure size 474.375x432 with 1 Axes>"
            ],
            "image/png": "[encoded data removed]"
          },
          "metadata": {
            "needs_background": "light"
          }
        }
      ]
    }
  ]
}